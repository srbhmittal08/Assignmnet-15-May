{
 "cells": [
  {
   "cell_type": "code",
   "execution_count": 6,
   "id": "041d2d54-58c4-4af4-86ea-b6d6c460305c",
   "metadata": {},
   "outputs": [
    {
     "data": {
      "text/plain": [
       "25"
      ]
     },
     "execution_count": 6,
     "metadata": {},
     "output_type": "execute_result"
    }
   ],
   "source": [
    "'''Answer 7'''\n",
    "age = 25\n",
    "age"
   ]
  },
  {
   "cell_type": "code",
   "execution_count": 3,
   "id": "feb24a30-5c5e-42af-bc6e-5c1a5f212b93",
   "metadata": {},
   "outputs": [
    {
     "data": {
      "text/plain": [
       "float"
      ]
     },
     "execution_count": 3,
     "metadata": {},
     "output_type": "execute_result"
    }
   ],
   "source": [
    "\n",
    "##Answer 8\n",
    "price = 9.99\n",
    "type(price)"
   ]
  },
  {
   "cell_type": "code",
   "execution_count": 13,
   "id": "96994fa5-7c0b-4a21-8a28-9838e1decfa8",
   "metadata": {},
   "outputs": [
    {
     "name": "stdout",
     "output_type": "stream",
     "text": [
      "Saurabh Mittal\n"
     ]
    }
   ],
   "source": [
    "## Answer 9\n",
    "name = \"Saurabh Mittal\"\n",
    "print(name)"
   ]
  },
  {
   "cell_type": "code",
   "execution_count": 7,
   "id": "7373c851-295f-4293-8a0b-b1e6a006c243",
   "metadata": {},
   "outputs": [
    {
     "data": {
      "text/plain": [
       "' World'"
      ]
     },
     "execution_count": 7,
     "metadata": {},
     "output_type": "execute_result"
    }
   ],
   "source": [
    "##Anwer 10\n",
    "s = \"Hello, World!\"\n",
    "s[6:12:1]"
   ]
  },
  {
   "cell_type": "code",
   "execution_count": 11,
   "id": "5e24c8c1-2137-46b9-9082-a57dcc7c5efb",
   "metadata": {},
   "outputs": [],
   "source": [
    "##Answer 3\n",
    "a = 25"
   ]
  },
  {
   "cell_type": "code",
   "execution_count": 39,
   "id": "f3efb653-b5f0-4bed-a7b7-3c70ff31e8d1",
   "metadata": {},
   "outputs": [
    {
     "data": {
      "text/plain": [
       "int"
      ]
     },
     "execution_count": 39,
     "metadata": {},
     "output_type": "execute_result"
    }
   ],
   "source": [
    "type(a)"
   ]
  },
  {
   "cell_type": "code",
   "execution_count": 41,
   "id": "d782455b-0071-467f-a60f-c46402f5ba2d",
   "metadata": {},
   "outputs": [
    {
     "data": {
      "text/plain": [
       "'25'"
      ]
     },
     "execution_count": 41,
     "metadata": {},
     "output_type": "execute_result"
    }
   ],
   "source": [
    "str(a)"
   ]
  },
  {
   "cell_type": "code",
   "execution_count": 42,
   "id": "b31e6354-ce01-4011-bf30-0abd75c1bbf7",
   "metadata": {},
   "outputs": [
    {
     "data": {
      "text/plain": [
       "25.0"
      ]
     },
     "execution_count": 42,
     "metadata": {},
     "output_type": "execute_result"
    }
   ],
   "source": []
  },
  {
   "cell_type": "code",
   "execution_count": 43,
   "id": "0a8b52ea-e060-4234-8d68-e4c9269ddf87",
   "metadata": {},
   "outputs": [
    {
     "data": {
      "text/plain": [
       "(25+0j)"
      ]
     },
     "execution_count": 43,
     "metadata": {},
     "output_type": "execute_result"
    }
   ],
   "source": []
  },
  {
   "cell_type": "code",
   "execution_count": 45,
   "id": "39727d9e-d355-49ca-9bc0-50e58a2c5bd0",
   "metadata": {},
   "outputs": [
    {
     "data": {
      "text/plain": [
       "25"
      ]
     },
     "execution_count": 45,
     "metadata": {},
     "output_type": "execute_result"
    }
   ],
   "source": [
    "int(a)"
   ]
  },
  {
   "cell_type": "code",
   "execution_count": 2,
   "id": "f2cfbc77-bbc9-4223-a15f-0d8b27a97669",
   "metadata": {},
   "outputs": [
    {
     "name": "stdin",
     "output_type": "stream",
     "text": [
      "Enter your input 1\n"
     ]
    },
    {
     "name": "stdout",
     "output_type": "stream",
     "text": [
      "you are not student\n"
     ]
    }
   ],
   "source": [
    "#Answer 11 \n",
    "is_student = bool(input(\"Enter your input\"))\n",
    "if (is_student == 0):\n",
    "    print(\"you are student\")\n",
    "else:\n",
    "        print(\"you are not student\")"
   ]
  },
  {
   "cell_type": "code",
   "execution_count": null,
   "id": "69b36e2c-4ea8-44c5-8d8c-411a90016a3d",
   "metadata": {},
   "outputs": [],
   "source": []
  }
 ],
 "metadata": {
  "kernelspec": {
   "display_name": "Python 3 (ipykernel)",
   "language": "python",
   "name": "python3"
  },
  "language_info": {
   "codemirror_mode": {
    "name": "ipython",
    "version": 3
   },
   "file_extension": ".py",
   "mimetype": "text/x-python",
   "name": "python",
   "nbconvert_exporter": "python",
   "pygments_lexer": "ipython3",
   "version": "3.10.8"
  }
 },
 "nbformat": 4,
 "nbformat_minor": 5
}
